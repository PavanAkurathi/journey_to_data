{
 "cells": [
  {
   "cell_type": "code",
   "execution_count": 1,
   "metadata": {},
   "outputs": [
    {
     "data": {
      "text/plain": [
       "'\\n1.In the pre-smartphone era,each number key is assigned a subset of the alphabet {a,b,…,z}.\\n\\n- 2 is assigned {a,b,c}, \\n- 3 is assigned {d,e,f} \\n- 4 is assigned {g,h,i} \\n- 5 is assigned {j,k,l}\\n- 6 is assigned {m,n,o} \\n- 7 is assigned {p,q,r,s}\\n- 8 is assigned {t,u,v} \\n- 9 is assigned {w,x,y,z}\\n\\nWrite a function numbers_to_chars() to find the characters generated using key 9999335533. Output should be \"zeke\"\\n\\nFunction Name : numbers_to_chars() Input : Integer number sequence Output : Str\\n'"
      ]
     },
     "execution_count": 1,
     "metadata": {},
     "output_type": "execute_result"
    }
   ],
   "source": [
    "\"\"\"\n",
    "1.In the pre-smartphone era,each number key is assigned a subset of the alphabet {a,b,…,z}.\n",
    "\n",
    "- 2 is assigned {a,b,c}, \n",
    "- 3 is assigned {d,e,f} \n",
    "- 4 is assigned {g,h,i} \n",
    "- 5 is assigned {j,k,l}\n",
    "- 6 is assigned {m,n,o} \n",
    "- 7 is assigned {p,q,r,s}\n",
    "- 8 is assigned {t,u,v} \n",
    "- 9 is assigned {w,x,y,z}\n",
    "\n",
    "Write a function numbers_to_chars() to find the characters generated using key 9999335533. Output should be \"zeke\"\n",
    "\n",
    "Function Name : numbers_to_chars() Input : Integer number sequence Output : Str\n",
    "\"\"\""
   ]
  },
  {
   "cell_type": "code",
   "execution_count": 2,
   "metadata": {},
   "outputs": [
    {
     "name": "stdout",
     "output_type": "stream",
     "text": [
      "zeke\n"
     ]
    }
   ],
   "source": [
    "def numbers_to_chars(number):\n",
    "    string = str(number)\n",
    "    if \"1\" in string:\n",
    "        return \"Enter number without 1\"\n",
    "    if \"0\" in string:\n",
    "        return \"Enter number without 0\"\n",
    "    \n",
    "    alpha_numeric = { '2': ['a', 'b', 'c'],\n",
    "                    '3': ['d', 'e', 'f'],\n",
    "                    '4': ['g', 'h', 'i'],\n",
    "                    '5': ['j', 'k', 'l'],\n",
    "                    '6': ['m', 'n', 'o'],\n",
    "                    '7': ['p', 'q', 'r', 's'],\n",
    "                    '8': ['t', 'u', 'v'],\n",
    "                    '9': ['w', 'x', 'y', 'z']}\n",
    "    lst = (''.join(curr +(''if curr == nxt else' ')for curr, nxt in zip(string, string[1:]+string[-1]))).split(' ')\n",
    "    chars = ''.join(alpha_numeric[lst[indx][0]][len(lst[indx])-1] for indx in range(len(lst)))\n",
    "    return chars\n",
    "key = 9999335533\n",
    "alphabet = numbers_to_chars(key)\n",
    "print(alphabet)\n",
    "    "
   ]
  },
  {
   "cell_type": "code",
   "execution_count": 21,
   "metadata": {},
   "outputs": [
    {
     "data": {
      "text/plain": [
       "'\\n2.Given a dict of tickets(\"to\":\"from\")\\n\\n{\"Chennai\":\"Banglore\",\"Bombay\":\"Delhi\",\"Goa\":\"Chennai\",\"Delhi\":\"Goa\"} find out the sequence of travel.\\n\\nExpected Output : Bombay->Delhi, Delhi->Goa, Goa->Chennai, Chennai->Banglore\\n\\nFunction Name : travel_sequence Input : dict Output : dict\\n'"
      ]
     },
     "execution_count": 21,
     "metadata": {},
     "output_type": "execute_result"
    }
   ],
   "source": [
    "'''\n",
    "2.Given a dict of tickets(\"to\":\"from\")\n",
    "\n",
    "{\"Chennai\":\"Banglore\",\"Bombay\":\"Delhi\",\"Goa\":\"Chennai\",\"Delhi\":\"Goa\"} find out the sequence of travel.\n",
    "\n",
    "Expected Output : Bombay->Delhi, Delhi->Goa, Goa->Chennai, Chennai->Banglore\n",
    "\n",
    "Function Name : travel_sequence Input : dict Output : dict\n",
    "'''\n",
    "\n"
   ]
  },
  {
   "cell_type": "code",
   "execution_count": 26,
   "metadata": {},
   "outputs": [
    {
     "name": "stdout",
     "output_type": "stream",
     "text": [
      "{'Bombay': 'Delhi', 'Delhi': 'Goa', 'Goa': 'Chennai', 'Chennai': 'Banglore'}\n"
     ]
    }
   ],
   "source": [
    "def travel_sequence(dict1):\n",
    "    dict2 = {}\n",
    "    key = list(dict1.keys())\n",
    "    value = list(dict1.values())\n",
    "    point = ''.join(x for x in key if not x in value )\n",
    "    for i in range(len(dict1)):\n",
    "        if len(dict2) != len(dict1):\n",
    "            dict2[point] = dict1[point]\n",
    "            point = dict1[point]\n",
    "    return dict2\n",
    "destination = travel_sequence({\"Chennai\":\"Banglore\",\"Bombay\":\"Delhi\",\"Goa\":\"Chennai\",\"Delhi\":\"Goa\"}\n",
    ")\n",
    "print(destination)\n",
    "    "
   ]
  },
  {
   "cell_type": "code",
   "execution_count": 4,
   "metadata": {},
   "outputs": [
    {
     "data": {
      "text/plain": [
       "'\\n3.Given a dictionary that associates the names of states with a list of the names of cities\\n  that appear in it,write a program that creates a new dictionary that associates the name of\\n  a city with the list of states that it appears in.\\n'"
      ]
     },
     "execution_count": 4,
     "metadata": {},
     "output_type": "execute_result"
    }
   ],
   "source": [
    "'''\n",
    "3.Given a dictionary that associates the names of states with a list of the names of cities\n",
    "  that appear in it,write a program that creates a new dictionary that associates the name of\n",
    "  a city with the list of states that it appears in.\n",
    "'''"
   ]
  },
  {
   "cell_type": "code",
   "execution_count": 2,
   "metadata": {},
   "outputs": [
    {
     "name": "stdout",
     "output_type": "stream",
     "text": [
      "{'Concord': ['New Hampshire', 'Massachusetts'], 'Hanover': ['New Hampshire'], 'Boston': ['Massachusetts'], 'Springfield': ['Massachusetts', 'Illinois'], 'Chicago': ['Illinois'], 'Peoria': ['Illinois']}\n"
     ]
    }
   ],
   "source": [
    "def city_with_state(user):\n",
    "    city_in_state = {}\n",
    "    cities = list(user.values())\n",
    "    #states = list(user.keys())    \n",
    "    for cities in user.values():\n",
    "        \n",
    "        for city in cities:\n",
    "            lst = []\n",
    "            for state in user.keys():\n",
    "                if city in user[state]:\n",
    "                    lst.append(state)\n",
    "                    city_in_state[city] = lst\n",
    "        \n",
    "    return city_in_state\n",
    "states = city_with_state({'New Hampshire': ['Concord', 'Hanover'],\n",
    "\n",
    "'Massachusetts': ['Boston', 'Concord', 'Springfield'],'Illinois': ['Chicago', 'Springfield', 'Peoria'] })\n",
    "print(states)"
   ]
  },
  {
   "cell_type": "code",
   "execution_count": 3,
   "metadata": {},
   "outputs": [
    {
     "data": {
      "text/plain": [
       "'\\n4.How do you check if a given String contains valid parentheses?\\nGiven a string containing just the characters \\'(\\', \\')\\', \\'{\\', \\'}\\', \\'[\\' and \\']\\',\\nwrite a program in python to check if the input string is valid. \\nThe brackets must close in the correct order, \"()\" and \"()[]{}\" are all valid but \"(]\" and \"([)]\" are not.\\n\\nFunction Name : check_parentheses Input : str Output : True/False\\n'"
      ]
     },
     "execution_count": 3,
     "metadata": {},
     "output_type": "execute_result"
    }
   ],
   "source": [
    "'''\n",
    "4.How do you check if a given String contains valid parentheses?\n",
    "Given a string containing just the characters '(', ')', '{', '}', '[' and ']',\n",
    "write a program in python to check if the input string is valid. \n",
    "The brackets must close in the correct order, \"()\" and \"()[]{}\" are all valid but \"(]\" and \"([)]\" are not.\n",
    "\n",
    "Function Name : check_parentheses Input : str Output : True/False\n",
    "'''"
   ]
  },
  {
   "cell_type": "code",
   "execution_count": 5,
   "metadata": {},
   "outputs": [],
   "source": [
    "def check_parentheses(string):\n",
    "    open_paren = string.split(\"(\")\n",
    "    close_paren = string.split(\")\")\n",
    "    open_curly = string.split(\"{\")\n",
    "    close_curly = string.split('}')\n",
    "    open_square = string.split(\"[\")\n",
    "    close_square = string.split(\"]\")\n",
    "    if len(string) == 0:\n",
    "        return \"Empty string!\"\n",
    "    count_open_paren = string.count(open_paren)\n",
    "    count_close_paren = string.count(close_paren)\n",
    "    count_open_curly = string.count(open_curly)\n",
    "    count_close_curly = string.count(close_curly)\n",
    "    count_open_square = string.count(open_sqaure)\n",
    "    count_close_square = string.count(close_square)\n",
    "    \n",
    "    \n",
    "    if count_open_paren == count_close_paren:\n",
    "        return True\n",
    "    elif count_open_curly == count_close_curly:\n",
    "        return True\n",
    "    elif count_open_square == count_close_square:\n",
    "        return True\n",
    "    else:\n",
    "        return False\n"
   ]
  },
  {
   "cell_type": "code",
   "execution_count": 7,
   "metadata": {},
   "outputs": [
    {
     "data": {
      "text/plain": [
       "'\\n5.Write a program to convert Integer to Roman String. For example, if a given integer is 5 then your program should print \"V\".\\n\\nFunction Name : int_roman Input : int Output : str\\n'"
      ]
     },
     "execution_count": 7,
     "metadata": {},
     "output_type": "execute_result"
    }
   ],
   "source": [
    "'''\n",
    "5.Write a program to convert Integer to Roman String. For example, if a given integer is 5 then your program should print \"V\".\n",
    "\n",
    "Function Name : int_roman Input : int Output : str\n",
    "'''            "
   ]
  },
  {
   "cell_type": "code",
   "execution_count": 17,
   "metadata": {},
   "outputs": [
    {
     "name": "stdout",
     "output_type": "stream",
     "text": [
      "V\n"
     ]
    }
   ],
   "source": [
    "def int_roman(number):\n",
    "    num = [10, 9, 5, 4, 1]\n",
    "    roman = ['X', 'XI', 'V', 'VI', 'I']\n",
    "    output = []\n",
    "    for i in range(len(num)):\n",
    "        count = int(number / num[i])\n",
    "        output.append(roman[i] * count)\n",
    "        number -= num[i] * count\n",
    "    return ''.join(output)\n",
    "\n",
    "roman = int_roman(5)\n",
    "print(roman)"
   ]
  },
  {
   "cell_type": "code",
   "execution_count": 18,
   "metadata": {},
   "outputs": [
    {
     "data": {
      "text/plain": [
       "'\\n6.Write a program utility that counts the number of lines of actual python code in a. For the purpose\\nof this exercise,a line is counted if it contains something\\nother than whitespace or text in a comment.\\n\\nremember that comment start sequences that appear inside python strings should be ignored.\\n\\nFunction Name : count_code_lines Input : str Output : int\\n'"
      ]
     },
     "execution_count": 18,
     "metadata": {},
     "output_type": "execute_result"
    }
   ],
   "source": [
    "'''\n",
    "6.Write a program utility that counts the number of lines of actual python code in a. For the purpose\n",
    "of this exercise,a line is counted if it contains something\n",
    "other than whitespace or text in a comment.\n",
    "\n",
    "remember that comment start sequences that appear inside python strings should be ignored.\n",
    "\n",
    "Function Name : count_code_lines Input : str Output : int\n",
    "'''"
   ]
  },
  {
   "cell_type": "code",
   "execution_count": 20,
   "metadata": {},
   "outputs": [],
   "source": [
    "def count_code_lines(string):\n",
    "    return string.count('/n')"
   ]
  },
  {
   "cell_type": "code",
   "execution_count": 21,
   "metadata": {},
   "outputs": [
    {
     "data": {
      "text/plain": [
       "'\\n\\n7.Write a program to check the strength of a supplied password\\n\\nThe length of the password must be at least 8 characters in length The password must contain at least 1 capital letter The password must contain at least 1 digit The password must contain at least 1 special character and allowed special characters are (!,@,#,$,&)\\n\\nWe need to provide feedback to the user about the strength of their password\\n\\nProvide the user with a list of reasons why their password is \\'weak\\'\\nFunction Name : check_password_strength Input : str Output : tuple (str,list) eg (\"Weak\",[\"The password must contain at least 1 capital letter\"])\\n\\nCheck if given sentence is syntactically correct or not\\nA simple sentence if syntactically correct if it fulfills given rules. The following are given rules.\\n\\nSentence must start with a Uppercase character (e.g. Noun/ I/ We/ He etc.)\\nThere must be spaces between words.\\nThen the sentence must end with a full stop(.).\\nTwo continuous spaces are not allowed.\\nTwo continuous uppercase characters are not allowed.\\nHowever the sentence can end after an uppercase character.\\n'"
      ]
     },
     "execution_count": 21,
     "metadata": {},
     "output_type": "execute_result"
    }
   ],
   "source": [
    "'''\n",
    "\n",
    "7.Write a program to check the strength of a supplied password\n",
    "\n",
    "The length of the password must be at least 8 characters in length The password must contain\n",
    "at least 1 capital letter The password must contain at least 1 digit The password must contain\n",
    "at least 1 special character and allowed special characters are (!,@,#,$,&)\n",
    "\n",
    "We need to provide feedback to the user about the strength of their password\n",
    "\n",
    "Provide the user with a list of reasons why their password is 'weak'\n",
    "Function Name : check_password_strength Input : str Output : tuple (str,list) eg (\"Weak\",\n",
    "[\"The password must contain at least 1 capital letter\"])\n",
    "\n",
    "Check if given sentence is syntactically correct or not\n",
    "A simple sentence if syntactically correct if it fulfills given rules. The following are given rules.\n",
    "\n",
    "Sentence must start with a Uppercase character (e.g. Noun/ I/ We/ He etc.)\n",
    "There must be spaces between words.\n",
    "Then the sentence must end with a full stop(.).\n",
    "Two continuous spaces are not allowed.\n",
    "Two continuous uppercase characters are not allowed.\n",
    "However the sentence can end after an uppercase character.\n",
    "'''"
   ]
  },
  {
   "cell_type": "code",
   "execution_count": 26,
   "metadata": {},
   "outputs": [
    {
     "name": "stdout",
     "output_type": "stream",
     "text": [
      "Strong password!\n"
     ]
    }
   ],
   "source": [
    "def password_strength(string):\n",
    "    warning  = (\"weak\", \"password must contain atleast one number and one capital letter.\")    \n",
    "    if len(string) < 8:\n",
    "        return warning\n",
    "    if not any(alpha.isupper() for alpha in string):\n",
    "        return warning\n",
    "    if not any(number.isdigit() for number in string):\n",
    "        return warning\n",
    "    character = ['!', '@', '$', '#']\n",
    "    bool = []\n",
    "    for char in string:\n",
    "        if char in character:\n",
    "            bool.append(True)\n",
    "        else:\n",
    "            bool.append(False)\n",
    "    if not any(bool):\n",
    "        return warning\n",
    "    return 'Strong password!'\n",
    "\n",
    "\n",
    "password = password_strength(\"Avpavdfadsfadsfa1dsa!\")\n",
    "\n",
    "print(password)\n",
    "            "
   ]
  }
 ],
 "metadata": {
  "kernelspec": {
   "display_name": "Python 3",
   "language": "python",
   "name": "python3"
  },
  "language_info": {
   "codemirror_mode": {
    "name": "ipython",
    "version": 3
   },
   "file_extension": ".py",
   "mimetype": "text/x-python",
   "name": "python",
   "nbconvert_exporter": "python",
   "pygments_lexer": "ipython3",
   "version": "3.7.4"
  }
 },
 "nbformat": 4,
 "nbformat_minor": 2
}
